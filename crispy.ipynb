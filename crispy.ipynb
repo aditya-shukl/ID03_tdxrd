{
 "cells": [
  {
   "cell_type": "code",
   "execution_count": 23,
   "id": "6a65f0cd-6eb1-4c6d-b002-1afae7d1055b",
   "metadata": {
    "tags": []
   },
   "outputs": [
    {
     "name": "stdout",
     "output_type": "stream",
     "text": [
      "# Setting path via: \n",
      "sys.path.insert(0, /data/projects/drex/Adi/projects/finding_grain_2/analysze_3dxrd/ImageD11 )\n",
      "# Running from: /data/projects/drex/Adi/projects/finding_grain_2/analysze_3dxrd/ImageD11/ImageD11/__init__.py\n"
     ]
    }
   ],
   "source": [
    "import sys\n",
    "exec(open('/data/id11/nanoscope/install_ImageD11_from_git.py').read())\n",
    "PYTHONPATH = setup_ImageD11_from_git( '/data/projects/drex/Adi/projects/finding_grain_2/analysze_3dxrd','ImageD11') ### replace with where you installed imaged11\n",
    "\n",
    "sys.path.insert(0, '/data/projects/drex/Adi/projects/oblique/crispy/') ### replace with where you installed crispy."
   ]
  },
  {
   "cell_type": "code",
   "execution_count": 24,
   "id": "169b235a-916d-4998-a7ee-d41cd19145ce",
   "metadata": {
    "tags": []
   },
   "outputs": [],
   "source": [
    "import numpy as np\n",
    "from scipy.spatial.transform import Rotation as R\n",
    "import crispy\n",
    "import ImageD11.grain\n",
    "import matplotlib.pyplot as plt\n",
    "\n",
    "import pandas as pd\n",
    "from IPython.display import display, HTML\n",
    "%matplotlib ipympl"
   ]
  },
  {
   "cell_type": "code",
   "execution_count": 25,
   "id": "6ee0dfc5-2438-4425-9d84-f225a020fcc2",
   "metadata": {
    "tags": []
   },
   "outputs": [],
   "source": [
    "grains_file_path='./grains_final_rex_iron_point1.npy'  #### replace the path to grains.npy file after indexing step.\n",
    "symmetry=225"
   ]
  },
  {
   "cell_type": "code",
   "execution_count": 26,
   "id": "803ebdba-0bf8-441c-a7b8-a057cab130f7",
   "metadata": {
    "tags": []
   },
   "outputs": [],
   "source": [
    "grains = list( np.load(grains_file_path, allow_pickle=True) )\n",
    "for i,g in enumerate(grains): \n",
    "    g.translation = g.translation\n",
    "    g.id = i\n",
    "#    g.ref_unitcell = g._ref_unitcell\n",
    "DO_TRANSFORM = False"
   ]
  },
  {
   "cell_type": "code",
   "execution_count": 27,
   "id": "7d54a3cc-de04-4fae-b71b-42f0ba9ae7c9",
   "metadata": {
    "tags": []
   },
   "outputs": [],
   "source": [
    "grain_map_3dxrd=crispy.GrainMap(grains,symmetry=symmetry) #### input"
   ]
  },
  {
   "cell_type": "code",
   "execution_count": 28,
   "id": "4124ea06-093e-4258-8814-2a623853a5dd",
   "metadata": {
    "tags": []
   },
   "outputs": [],
   "source": [
    "motor_bounds = {\n",
    "    \"mu\": (-5, 15),\n",
    "    \"omega\": (0, 360.26),\n",
    "    \"chi\": (-5, 5),\n",
    "    \"phi\": (-5,5),\n",
    "    \"detector_z\": (-0.04, 1.96),\n",
    "    \"detector_y\": (-0.169, 1.16),\n",
    "}\n"
   ]
  },
  {
   "cell_type": "code",
   "execution_count": 29,
   "id": "bfea9fcd-15d6-426b-8264-e5022907f724",
   "metadata": {},
   "outputs": [],
   "source": [
    "goniometer = crispy.dfxm.Goniometer(grain_map_3dxrd,\n",
    "                        energy=17,\n",
    "                        detector_distance=5,\n",
    "                        motor_bounds=motor_bounds,verbose=False)\n"
   ]
  },
  {
   "cell_type": "code",
   "execution_count": null,
   "id": "24733270-e40f-47e3-a049-6b58fb629f61",
   "metadata": {},
   "outputs": [],
   "source": [
    "goniometer.find_reflections()"
   ]
  },
  {
   "cell_type": "code",
   "execution_count": null,
   "id": "aaf2ff57-ab57-4e77-a02d-8dfa491104a4",
   "metadata": {},
   "outputs": [
    {
     "data": {
      "text/html": [
       "<div>\n",
       "<style scoped>\n",
       "    .dataframe tbody tr th:only-of-type {\n",
       "        vertical-align: middle;\n",
       "    }\n",
       "\n",
       "    .dataframe tbody tr th {\n",
       "        vertical-align: top;\n",
       "    }\n",
       "\n",
       "    .dataframe thead th {\n",
       "        text-align: right;\n",
       "    }\n",
       "</style>\n",
       "<table border=\"1\" class=\"dataframe\">\n",
       "  <thead>\n",
       "    <tr style=\"text-align: right;\">\n",
       "      <th></th>\n",
       "      <th>grain id</th>\n",
       "      <th>h</th>\n",
       "      <th>k</th>\n",
       "      <th>l</th>\n",
       "      <th>mu [dgr]</th>\n",
       "      <th>omega [dgr]</th>\n",
       "      <th>chi [dgr]</th>\n",
       "      <th>phi [dgr]</th>\n",
       "      <th>2 theta [dgr]</th>\n",
       "      <th>eta [dgr]</th>\n",
       "      <th>detector_z [mm]</th>\n",
       "    </tr>\n",
       "  </thead>\n",
       "  <tbody>\n",
       "    <tr>\n",
       "      <th>0</th>\n",
       "      <td>0.0</td>\n",
       "      <td>-1.0</td>\n",
       "      <td>1.0</td>\n",
       "      <td>0.0</td>\n",
       "      <td>-41.084</td>\n",
       "      <td>126.272</td>\n",
       "      <td>4.979</td>\n",
       "      <td>4.999</td>\n",
       "      <td>20.726</td>\n",
       "      <td>0.0</td>\n",
       "      <td>1891.899</td>\n",
       "    </tr>\n",
       "    <tr>\n",
       "      <th>1</th>\n",
       "      <td>1.0</td>\n",
       "      <td>-1.0</td>\n",
       "      <td>1.0</td>\n",
       "      <td>0.0</td>\n",
       "      <td>-33.497</td>\n",
       "      <td>122.678</td>\n",
       "      <td>4.608</td>\n",
       "      <td>2.664</td>\n",
       "      <td>20.723</td>\n",
       "      <td>0.0</td>\n",
       "      <td>1891.621</td>\n",
       "    </tr>\n",
       "    <tr>\n",
       "      <th>2</th>\n",
       "      <td>1.0</td>\n",
       "      <td>1.0</td>\n",
       "      <td>1.0</td>\n",
       "      <td>0.0</td>\n",
       "      <td>10.212</td>\n",
       "      <td>204.182</td>\n",
       "      <td>-3.517</td>\n",
       "      <td>4.395</td>\n",
       "      <td>20.723</td>\n",
       "      <td>0.0</td>\n",
       "      <td>1891.615</td>\n",
       "    </tr>\n",
       "    <tr>\n",
       "      <th>3</th>\n",
       "      <td>2.0</td>\n",
       "      <td>-1.0</td>\n",
       "      <td>-1.0</td>\n",
       "      <td>0.0</td>\n",
       "      <td>-43.571</td>\n",
       "      <td>32.284</td>\n",
       "      <td>4.884</td>\n",
       "      <td>-4.155</td>\n",
       "      <td>20.724</td>\n",
       "      <td>0.0</td>\n",
       "      <td>1891.782</td>\n",
       "    </tr>\n",
       "    <tr>\n",
       "      <th>4</th>\n",
       "      <td>3.0</td>\n",
       "      <td>-1.0</td>\n",
       "      <td>-1.0</td>\n",
       "      <td>0.0</td>\n",
       "      <td>4.793</td>\n",
       "      <td>349.878</td>\n",
       "      <td>1.806</td>\n",
       "      <td>-4.882</td>\n",
       "      <td>20.722</td>\n",
       "      <td>0.0</td>\n",
       "      <td>1891.513</td>\n",
       "    </tr>\n",
       "    <tr>\n",
       "      <th>...</th>\n",
       "      <td>...</td>\n",
       "      <td>...</td>\n",
       "      <td>...</td>\n",
       "      <td>...</td>\n",
       "      <td>...</td>\n",
       "      <td>...</td>\n",
       "      <td>...</td>\n",
       "      <td>...</td>\n",
       "      <td>...</td>\n",
       "      <td>...</td>\n",
       "      <td>...</td>\n",
       "    </tr>\n",
       "    <tr>\n",
       "      <th>1030</th>\n",
       "      <td>628.0</td>\n",
       "      <td>1.0</td>\n",
       "      <td>0.0</td>\n",
       "      <td>-1.0</td>\n",
       "      <td>-1.227</td>\n",
       "      <td>296.429</td>\n",
       "      <td>1.056</td>\n",
       "      <td>-0.392</td>\n",
       "      <td>20.723</td>\n",
       "      <td>0.0</td>\n",
       "      <td>1891.623</td>\n",
       "    </tr>\n",
       "    <tr>\n",
       "      <th>1031</th>\n",
       "      <td>629.0</td>\n",
       "      <td>-1.0</td>\n",
       "      <td>-1.0</td>\n",
       "      <td>0.0</td>\n",
       "      <td>1.787</td>\n",
       "      <td>353.065</td>\n",
       "      <td>3.660</td>\n",
       "      <td>0.417</td>\n",
       "      <td>20.724</td>\n",
       "      <td>0.0</td>\n",
       "      <td>1891.759</td>\n",
       "    </tr>\n",
       "    <tr>\n",
       "      <th>1032</th>\n",
       "      <td>629.0</td>\n",
       "      <td>1.0</td>\n",
       "      <td>0.0</td>\n",
       "      <td>-1.0</td>\n",
       "      <td>-18.889</td>\n",
       "      <td>233.301</td>\n",
       "      <td>2.207</td>\n",
       "      <td>-3.216</td>\n",
       "      <td>20.726</td>\n",
       "      <td>0.0</td>\n",
       "      <td>1891.947</td>\n",
       "    </tr>\n",
       "    <tr>\n",
       "      <th>1033</th>\n",
       "      <td>631.0</td>\n",
       "      <td>-1.0</td>\n",
       "      <td>0.0</td>\n",
       "      <td>-1.0</td>\n",
       "      <td>-42.005</td>\n",
       "      <td>59.468</td>\n",
       "      <td>2.021</td>\n",
       "      <td>1.457</td>\n",
       "      <td>20.723</td>\n",
       "      <td>0.0</td>\n",
       "      <td>1891.679</td>\n",
       "    </tr>\n",
       "    <tr>\n",
       "      <th>1034</th>\n",
       "      <td>631.0</td>\n",
       "      <td>1.0</td>\n",
       "      <td>1.0</td>\n",
       "      <td>0.0</td>\n",
       "      <td>-11.977</td>\n",
       "      <td>177.390</td>\n",
       "      <td>-0.772</td>\n",
       "      <td>-1.626</td>\n",
       "      <td>20.729</td>\n",
       "      <td>0.0</td>\n",
       "      <td>1892.218</td>\n",
       "    </tr>\n",
       "  </tbody>\n",
       "</table>\n",
       "<p>1035 rows × 11 columns</p>\n",
       "</div>"
      ],
      "text/plain": [
       "      grain id    h    k    l  mu [dgr]  omega [dgr]  chi [dgr]  phi [dgr]  \\\n",
       "0          0.0 -1.0  1.0  0.0   -41.084      126.272      4.979      4.999   \n",
       "1          1.0 -1.0  1.0  0.0   -33.497      122.678      4.608      2.664   \n",
       "2          1.0  1.0  1.0  0.0    10.212      204.182     -3.517      4.395   \n",
       "3          2.0 -1.0 -1.0  0.0   -43.571       32.284      4.884     -4.155   \n",
       "4          3.0 -1.0 -1.0  0.0     4.793      349.878      1.806     -4.882   \n",
       "...        ...  ...  ...  ...       ...          ...        ...        ...   \n",
       "1030     628.0  1.0  0.0 -1.0    -1.227      296.429      1.056     -0.392   \n",
       "1031     629.0 -1.0 -1.0  0.0     1.787      353.065      3.660      0.417   \n",
       "1032     629.0  1.0  0.0 -1.0   -18.889      233.301      2.207     -3.216   \n",
       "1033     631.0 -1.0  0.0 -1.0   -42.005       59.468      2.021      1.457   \n",
       "1034     631.0  1.0  1.0  0.0   -11.977      177.390     -0.772     -1.626   \n",
       "\n",
       "      2 theta [dgr]  eta [dgr]  detector_z [mm]  \n",
       "0            20.726        0.0         1891.899  \n",
       "1            20.723        0.0         1891.621  \n",
       "2            20.723        0.0         1891.615  \n",
       "3            20.724        0.0         1891.782  \n",
       "4            20.722        0.0         1891.513  \n",
       "...             ...        ...              ...  \n",
       "1030         20.723        0.0         1891.623  \n",
       "1031         20.724        0.0         1891.759  \n",
       "1032         20.726        0.0         1891.947  \n",
       "1033         20.723        0.0         1891.679  \n",
       "1034         20.729        0.0         1892.218  \n",
       "\n",
       "[1035 rows x 11 columns]"
      ]
     },
     "execution_count": 10,
     "metadata": {},
     "output_type": "execute_result"
    }
   ],
   "source": [
    "df = goniometer.table_of_reflections()\n",
    "df.round(3)[:]"
   ]
  },
  {
   "cell_type": "code",
   "execution_count": 30,
   "id": "71817c11-6ad8-4fa5-a7fb-0358e3d4adb3",
   "metadata": {
    "tags": []
   },
   "outputs": [],
   "source": [
    "goniometer.polycrystal.tesselate()"
   ]
  },
  {
   "cell_type": "code",
   "execution_count": 32,
   "id": "ccf66b22-2c5d-4665-be60-ba8e7b1b3e89",
   "metadata": {
    "tags": []
   },
   "outputs": [
    {
     "data": {
      "text/plain": [
       "array([ 46, 103, 109, 120, 128, 155, 221, 250, 294, 304, 489, 582, 608])"
      ]
     },
     "execution_count": 32,
     "metadata": {},
     "output_type": "execute_result"
    }
   ],
   "source": [
    "### if you want to look at neibhours of specific grains .\n",
    "goniometer.polycrystal.neighbours[9]"
   ]
  },
  {
   "cell_type": "code",
   "execution_count": null,
   "id": "9e69ee84-baab-405d-be2a-2f3ea88720ad",
   "metadata": {},
   "outputs": [
    {
     "data": {
      "text/plain": [
       "{'hkl': array([[-1.],\n",
       "        [ 1.],\n",
       "        [ 0.]]),\n",
       " 'mu': array([-41.08389342]),\n",
       " 'omega': array([126.27200992]),\n",
       " 'chi': array([4.9794122]),\n",
       " 'phi': array([4.99929885]),\n",
       " 'residual': array([6.72262041e-06]),\n",
       " 'theta': array([10.36281337])}"
      ]
     },
     "execution_count": 11,
     "metadata": {},
     "output_type": "execute_result"
    }
   ],
   "source": [
    "### get the available reflections\n",
    "goniometer.polycrystal.grains[0].dfxm"
   ]
  }
 ],
 "metadata": {
  "kernelspec": {
   "display_name": "Python 3 (main)",
   "language": "python",
   "name": "python3"
  },
  "language_info": {
   "codemirror_mode": {
    "name": "ipython",
    "version": 3
   },
   "file_extension": ".py",
   "mimetype": "text/x-python",
   "name": "python",
   "nbconvert_exporter": "python",
   "pygments_lexer": "ipython3",
   "version": "3.11.6"
  }
 },
 "nbformat": 4,
 "nbformat_minor": 5
}
